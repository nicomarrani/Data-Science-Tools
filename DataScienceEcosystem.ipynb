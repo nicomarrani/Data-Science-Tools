{
 "cells": [
  {
   "cell_type": "markdown",
   "id": "e1675bbf-d521-4e5a-90a1-c03a8483b814",
   "metadata": {},
   "source": [
    "# Data Science Tools and Ecosystem"
   ]
  },
  {
   "cell_type": "markdown",
   "id": "44bafe90-974c-46df-81ac-c17f3dff9efc",
   "metadata": {
    "tags": []
   },
   "source": [
    "## In this notebook, Data Science Tools and Ecosystems are summarized."
   ]
  },
  {
   "cell_type": "markdown",
   "id": "003b918b-9159-4df2-a11a-d4fc2b1e8a59",
   "metadata": {
    "tags": []
   },
   "source": [
    "Some of the popular languages that Data Scientists use are:\n",
    "1. Python\n",
    "2. SQL\n",
    "3. R"
   ]
  },
  {
   "cell_type": "markdown",
   "id": "ebf3226c-bad1-4e21-8213-0c07be67cab9",
   "metadata": {},
   "source": [
    "Some of the commonly used libraries used by Data Scientists are:\n",
    "1. TensorFlow\n",
    "2. Pandas\n",
    "3. Matplotlib"
   ]
  },
  {
   "cell_type": "markdown",
   "id": "8510c6de-45dc-4f86-8964-7a2731003694",
   "metadata": {
    "tags": []
   },
   "source": [
    "|Data Science Tools|\n",
    "|--------|\n",
    "|Jupyter Lab|\n",
    "|Apache Zeppelin|\n",
    "|RStudio|"
   ]
  },
  {
   "cell_type": "markdown",
   "id": "40cc3d7e-b31a-4d9a-b850-c92ae15ee08b",
   "metadata": {},
   "source": [
    "### Below are a few examples of evaluating arithmic expressions in python"
   ]
  },
  {
   "cell_type": "code",
   "execution_count": null,
   "id": "b0b62966-1147-4871-92e4-6ae3451d8c7d",
   "metadata": {
    "tags": []
   },
   "outputs": [],
   "source": [
    "# This is a simple arithmetic expression to multiply then add integers\n",
    "(3*4)+5"
   ]
  },
  {
   "cell_type": "code",
   "execution_count": null,
   "id": "2b0e40ea-0c89-417d-8a5d-f34a0e5021af",
   "metadata": {
    "tags": []
   },
   "outputs": [],
   "source": [
    "# This will convert 200 minutes to hours by dividing by 60\n",
    "200/60"
   ]
  },
  {
   "cell_type": "markdown",
   "id": "5dc69bab-0136-41e0-a4ff-aaa2f16fb640",
   "metadata": {},
   "source": [
    "**Objectives:**\n",
    "- List popular languages for Data Science\n",
    "- List open-source data management tools\n",
    "- Learn Github basics"
   ]
  },
  {
   "cell_type": "markdown",
   "id": "216ac192-bc1a-4ba7-af8d-1d9b37d89a43",
   "metadata": {},
   "source": [
    "## Author\n",
    "Nicoletta"
   ]
  },
  {
   "cell_type": "code",
   "execution_count": null,
   "id": "4841d6ee-0cad-4bd1-ac4b-0286ff94d5f5",
   "metadata": {},
   "outputs": [],
   "source": []
  }
 ],
 "metadata": {
  "kernelspec": {
   "display_name": "Python",
   "language": "python",
   "name": "conda-env-python-py"
  },
  "language_info": {
   "codemirror_mode": {
    "name": "ipython",
    "version": 3
   },
   "file_extension": ".py",
   "mimetype": "text/x-python",
   "name": "python",
   "nbconvert_exporter": "python",
   "pygments_lexer": "ipython3",
   "version": "3.7.12"
  }
 },
 "nbformat": 4,
 "nbformat_minor": 5
}
